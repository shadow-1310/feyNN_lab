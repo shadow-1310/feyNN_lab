{
 "cells": [
  {
   "cell_type": "markdown",
   "id": "a4b359eb",
   "metadata": {},
   "source": [
    "## Segment Evaluation Plot"
   ]
  },
  {
   "cell_type": "markdown",
   "id": "e113bbee",
   "metadata": {},
   "source": [
    "### the R code is - \n",
    "##### R> visit <- tapply(as.numeric(mcdonalds$VisitFrequency), + k4, mean)\n",
    "### Equivalent python code is"
   ]
  },
  {
   "cell_type": "code",
   "execution_count": null,
   "id": "db21d57c",
   "metadata": {},
   "outputs": [],
   "source": [
    "visit = mcdonalds['VisitFrequency'].astype(float).groupby(k4).mean()"
   ]
  },
  {
   "cell_type": "markdown",
   "id": "b8be70b5",
   "metadata": {},
   "source": [
    "### R code is\n",
    "##### R> like <- tapply(mcdonalds$Like.n, k4, mean)\n",
    "\n",
    "### Equivalent python code is"
   ]
  },
  {
   "cell_type": "code",
   "execution_count": null,
   "id": "e21087a4",
   "metadata": {},
   "outputs": [],
   "source": [
    "like = mcdonalds.groupby('k4')['Like.n'].mean()"
   ]
  },
  {
   "cell_type": "markdown",
   "id": "22dc33a9",
   "metadata": {},
   "source": [
    "### R code is\n",
    "##### R> female <- tapply((mcdonalds$Gender == \"Female\") + 0, + k4, mean)\n",
    "\n",
    "### equivalent python code is"
   ]
  },
  {
   "cell_type": "code",
   "execution_count": null,
   "id": "0690632b",
   "metadata": {},
   "outputs": [],
   "source": [
    "female = mcdonalds[mcdonalds['Gender'] == 'Female'].groupby(k4).mean()"
   ]
  },
  {
   "cell_type": "markdown",
   "id": "3ecfc8bf",
   "metadata": {},
   "source": [
    "### R code is\n",
    "###### R> plot(visit, like, cex = 10 * female,+ xlim = c(2, 4.5), ylim = c(-3, 3))\n",
    "###### R> text(visit, like, 1:4)\n",
    "\n",
    "### equivalent python code is"
   ]
  },
  {
   "cell_type": "code",
   "execution_count": null,
   "id": "04017c8b",
   "metadata": {},
   "outputs": [],
   "source": [
    "import matplotlib.pyplot as plt\n",
    "\n",
    "plt.scatter(visit, like, s=10*female, c='blue')\n",
    "plt.xlim(2, 4.5)\n",
    "plt.ylim(-3, 3)\n",
    "plt.xlabel('Visit')\n",
    "plt.ylabel('Like')\n",
    "plt.text(visit, like, range(1, 5))\n",
    "plt.show()"
   ]
  }
 ],
 "metadata": {
  "kernelspec": {
   "display_name": "Python 3 (ipykernel)",
   "language": "python",
   "name": "python3"
  },
  "language_info": {
   "codemirror_mode": {
    "name": "ipython",
    "version": 3
   },
   "file_extension": ".py",
   "mimetype": "text/x-python",
   "name": "python",
   "nbconvert_exporter": "python",
   "pygments_lexer": "ipython3",
   "version": "3.10.6"
  }
 },
 "nbformat": 4,
 "nbformat_minor": 5
}
